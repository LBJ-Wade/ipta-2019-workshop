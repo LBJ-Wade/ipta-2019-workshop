{
 "cells": [
  {
   "cell_type": "markdown",
   "metadata": {},
   "source": [
    "## Stand on the shoulders of giants. Or, at least, other programmers\n",
    "\n",
    "If you had to write everything, from soup to nuts, you'd never get anywhere. Fortunately, a lot of stuff has already been written for you, by the Python team and also by many programmers around the world, _including_ intrepid astronomers. To get most of the functionality you might want, you need to import the modules in which it is contained. In this Notebook, we are going to look at importing modules and packages (and subpackages), classes, and how to find out how to do things with the modules you've imported. We'll illustrate all this with some simple examples from the `astropy` package, which is a tool you will use often as an astronomer programming in Python.\n"
   ]
  },
  {
   "cell_type": "markdown",
   "metadata": {},
   "source": [
    "### A common error you will see often.\n",
    "\n",
    "As an example, if you want to be able to ask Python in which directory you are currently located, you use `getcwd()` (\"get current working directory\"; it's a function, so even though it takes no arguments you need braces afterwards), which is in the `os` module. However, just writing this won't work (try it!): "
   ]
  },
  {
   "cell_type": "code",
   "execution_count": null,
   "metadata": {},
   "outputs": [],
   "source": [
    "getcwd()"
   ]
  },
  {
   "cell_type": "markdown",
   "metadata": {},
   "source": [
    "#### Import your module\n",
    "\n",
    "To get this to work, you need to import the `os` module first"
   ]
  },
  {
   "cell_type": "code",
   "execution_count": null,
   "metadata": {
    "collapsed": true
   },
   "outputs": [],
   "source": [
    "import os"
   ]
  },
  {
   "cell_type": "markdown",
   "metadata": {},
   "source": [
    "#### Now you can call your function?"
   ]
  },
  {
   "cell_type": "code",
   "execution_count": null,
   "metadata": {},
   "outputs": [],
   "source": [
    "getcwd()"
   ]
  },
  {
   "cell_type": "markdown",
   "metadata": {},
   "source": [
    "#### Nope\n",
    "\n",
    "Wait, that still doesn't work! That's because, to avoid potential collisions when a lot of modules have been imported (and some of which may contain functions with the same name), you need to qualify the name with the name of its parent module, this case `os`."
   ]
  },
  {
   "cell_type": "code",
   "execution_count": null,
   "metadata": {},
   "outputs": [],
   "source": [
    "os.getcwd()"
   ]
  },
  {
   "cell_type": "markdown",
   "metadata": {},
   "source": [
    "#### Go with the flow, Marlon!\n",
    "\n",
    "As the interpreter only imports the module when it's told to, only code coming _after_ the `import` statements in the flow of the program will have access to the imported functionality. You can check this by going to `Kernel` above, and selecting `Restart and clear output`, and then run only the cell immediately above. You will get `NameError: name 'os' is not defined`, because `os` is not yet imported. Now step through and execute all the code cells and you'll get all the previous output back.\n",
    "\n",
    "The notebook will keep track of the order in which cells have been executed; this is helpful if you have debugging issues which you think relate to the flow of execution, but sometimes you just need to restart the notebook's kernel. When you are writing scripts it is more obvious how this might arise and _most_ imports happen either at the top of a linear script file or else in whatever entry points are used."
   ]
  },
  {
   "cell_type": "markdown",
   "metadata": {},
   "source": [
    "#### Where does Python find Modules?\n",
    "\n",
    "The Python interpeter looks along the locations in the [`sys.path`](https://docs.python.org/3/library/sys.html#sys.path) variable. This will be, in order, your local working directory (which you can work out with `os.getcwd()` as above, and you can change with `os.chdir(new_directory)`), the contents of your `$PYTHONPATH` environment variable and then it'll look in the the base installation's `site-packages` directory, which is where packages you install using tools like `pip` and `conda` will end up. \n",
    "\n",
    "Sometimes, when you install software which has Python component modules that doesn't end up in `site-packages` (such as the Python2 wrapper in `presto`) you'll add their location to your `$PYTHONPATH` (this has already been done in the container we distributed for this workshop). Not finding modules you know are on the system is one of the most frustrating things in Python. Be aware that if you have a package directory inside your current directory and want to import something from inside it, you need to use a _relative_ import:\n",
    "\n",
    "    from .package_name import module_name\n",
    "    \n",
    "You can see what your path is (and append to it, if you want; this will only last while the modification is in scope):"
   ]
  },
  {
   "cell_type": "code",
   "execution_count": null,
   "metadata": {},
   "outputs": [],
   "source": [
    "import sys\n",
    "print (sys.path)"
   ]
  },
  {
   "cell_type": "markdown",
   "metadata": {},
   "source": [
    "### Modules vs. Packages\n",
    "\n",
    "Any Python code file is a module, and can be imported; this is just as well, as you don't want your entire codebase to all be in the same file. As with other programming languages, you will break out related subsets of functionality into separate blocks which reside in other files; this enhances both code readability and (importantly) reusability, whilst encouraging the modularity which makes code easier to debug, extend and maintain. \n",
    "\n",
    "A Package is a collection of modules, all residing in the same folder; the folder will contain a file called `__init__.py`, which may even be empty, but will often contain a list of the modules in that package. It is also possible to have _subpackages_, which are directories inside the parent package directory containing module files and their own `__init__.py`. We will see an example of that later, when we import and play around with the `astropy` package."
   ]
  },
  {
   "cell_type": "markdown",
   "metadata": {},
   "source": [
    "## A very useful package, aliases and subpackages. And classes\n",
    "\n",
    "One of the most useful packages, for astronomers of all is [astropy](http://docs.astropy.org/en/stable/), which contains a variety of routines including some for handling FITS files. Most of the useful stuff in astropy is in subpackages, which you name in your input; additionally, for convenience we may also put in an alias using the `as` keyword, and then use that alias in the scope of the import statement, going forward. Here is an example, from the astropy documentation:"
   ]
  },
  {
   "cell_type": "code",
   "execution_count": null,
   "metadata": {},
   "outputs": [],
   "source": [
    "#Here we import the units subpackage from astropy, and alias it to u\n",
    "from astropy import units as u\n",
    "\n",
    "#Now we important the coordinates subpackage and alias it to coord\n",
    "from astropy import coordinates as coord\n",
    "\n",
    "#Lets convert some coordinates!\n",
    "my_coord = coord.SkyCoord(ra=10.68458*u.deg, dec=41.26917*u.deg, frame='icrs') \n",
    "\n",
    "print (my_coord)\n",
    "\n"
   ]
  },
  {
   "cell_type": "markdown",
   "metadata": {},
   "source": [
    "#### What did I just do?\n",
    "\n",
    "You can get more details from the [coordinates documentation](http://docs.astropy.org/en/stable/coordinates/index.html) but in essence, once we'd imported the `units` subpackage to get degrees (thanks to our alias to `u` we can access these as `u.deg`) and imported the `coordinates` subpackage  to get access to the `SkyCoord` class.\n",
    "\n",
    "#### Wait, what is a class?\n",
    "\n",
    "A class is something a bit like a type, essentially a construct which allows you to instantiate examples typically called _objects_. So, `my_coord` is the name of an `SkyCoord` we made; the [`SkyCoord` class documentation](http://docs.astropy.org/en/stable/api/astropy.coordinates.SkyCoord.html#astropy.coordinates.SkyCoord) contains a lot more information. However, the main class documentation can often be a bit information-dense and advice-light; fortunately, astropy typically has more documentation on how to get stuff _done_, and for SkyCoord there is [a page full of advice and examples](http://docs.astropy.org/en/stable/coordinates/skycoord.html).\n",
    "\n",
    "#### So, I have my object. What do I do with it? What _can_ I do with it?\n",
    "\n",
    "We have `my_coord` as our `SkyCoord` object, but what's in it? How can you access what's in it? `SkyCoord` objects contain the coordinates we fed in when we created it---we gave it right ascension and declination in degrees, in the ICRS frame (ICRS is actually the default, so that if we hadn't specified it that's what would have been input anyhow, but explicit specification is often a good idea, for avoiding mistakes and enhancing readability)---and how we can perform useful operations on it, as our `mycoord` object, as a member of the `SkyCoord` class, has the methods and attributes of that class. There are several examples in the SkyCoord advice page linked above, but let's play around a bit."
   ]
  },
  {
   "cell_type": "code",
   "execution_count": null,
   "metadata": {},
   "outputs": [],
   "source": [
    "# We entered right ascension in degrees. What is it in hourangle?\n",
    "print (my_coord.ra.hourangle)\n"
   ]
  },
  {
   "cell_type": "code",
   "execution_count": null,
   "metadata": {},
   "outputs": [],
   "source": [
    "#Hrm, we really want it all, in hms and dms:\n",
    "print (my_coord.ra.hms, my_coord.dec.dms)"
   ]
  },
  {
   "cell_type": "code",
   "execution_count": null,
   "metadata": {},
   "outputs": [],
   "source": [
    "#OK, those tuples are handy for manipulation, but what about user output?\n",
    "print (my_coord.to_string(style='hmsdms'))"
   ]
  },
  {
   "cell_type": "markdown",
   "metadata": {},
   "source": [
    "Hrm, that is a bit hard to read. Let's try a separator:"
   ]
  },
  {
   "cell_type": "code",
   "execution_count": null,
   "metadata": {},
   "outputs": [],
   "source": [
    "print (my_coord.to_string(style='hmsdms', sep='-'))"
   ]
  },
  {
   "cell_type": "markdown",
   "metadata": {
    "collapsed": true
   },
   "source": [
    "#### How was I supposed to know how to do all of that?\n",
    "\n",
    "Well, you have options, but ideally the documentation is helpful. In this case, you could have started at the main [SkyCoord page](http://docs.astropy.org/en/stable/api/astropy.coordinates.SkyCoord.html) and then looked at the section on [SkyCoord.to_string()](http://docs.astropy.org/en/stable/api/astropy.coordinates.SkyCoord.html#astropy.coordinates.SkyCoord.to_string) and then clicked through to [Angle.to_string()](http://docs.astropy.org/en/stable/api/astropy.coordinates.Angle.html#astropy.coordinates.Angle.to_string) and found that all out. The Astropy pages are great, and the documentation is accessible via code, too. You can find out what's available in the `SkyCoord` class (remembering that `SkyCoord` is part of the Astropy subpackage `coordinates`, which we earlier aliased as `coord`) using `dir`:"
   ]
  },
  {
   "cell_type": "code",
   "execution_count": null,
   "metadata": {},
   "outputs": [],
   "source": [
    "dir(coord.SkyCoord)\n"
   ]
  },
  {
   "cell_type": "markdown",
   "metadata": {},
   "source": [
    "You can then ask for help on individual components of interest, for example `to_string`:"
   ]
  },
  {
   "cell_type": "code",
   "execution_count": null,
   "metadata": {},
   "outputs": [],
   "source": [
    "help(coord.SkyCoord.to_string)"
   ]
  },
  {
   "cell_type": "markdown",
   "metadata": {},
   "source": [
    "Reading that, you'd then be able to ask for the `Angle.to_string` help and find out about the ability to specify the units and to use `sep`:"
   ]
  },
  {
   "cell_type": "code",
   "execution_count": null,
   "metadata": {},
   "outputs": [],
   "source": [
    "help(coord.Angle.to_string)"
   ]
  },
  {
   "cell_type": "markdown",
   "metadata": {},
   "source": [
    "Before we leave this alone, let's use `SkyCoord` one more time. The function `separation` looks interesting:"
   ]
  },
  {
   "cell_type": "code",
   "execution_count": null,
   "metadata": {},
   "outputs": [],
   "source": [
    "help(coord.SkyCoord.separation)"
   ]
  },
  {
   "cell_type": "markdown",
   "metadata": {},
   "source": [
    "So, let's define another sky location and see how far it is from the existing one!"
   ]
  },
  {
   "cell_type": "code",
   "execution_count": null,
   "metadata": {},
   "outputs": [],
   "source": [
    "my_other_coord = coord.SkyCoord(ra=2.1*u.deg, dec=50.32*u.deg, frame='icrs')\n",
    "#Now we calculate the distance between my_coord and My_other_coord:\n",
    "print(my_coord.separation(my_other_coord))"
   ]
  },
  {
   "cell_type": "markdown",
   "metadata": {},
   "source": [
    "Note that the function arguments we pass in do _not_ include one for `self`, even though that is specified in the output from `help`; that is because it's a class function which will be called on a member of the class (in this case, my_coord; we could have also called it on `my_other_coord` and passed in `my_coord` as the argument; **Exercise**: try that!). We can get this in decimal degrees (often more useful for numerical calculations):"
   ]
  },
  {
   "cell_type": "code",
   "execution_count": null,
   "metadata": {},
   "outputs": [],
   "source": [
    "print(my_coord.separation(my_other_coord).to_string(decimal=True) + \" degrees\")"
   ]
  },
  {
   "cell_type": "markdown",
   "metadata": {},
   "source": [
    "We knew from the `separation` documentation above that the return type was an `Angle`, and from the `Angle` documentation that we had to specify `decimal=True` to avoid getting a sexagesimal angle, and we also enclosed the `my_coord.separation` in braces to make it clear that it was that on which `to_string` was being called (the interpreter doesn't need that, but it sometimes makes things easier for _us_ to parse). Add in the concatenation of `\" degrees\"` to make it clear what we have, and there we have it."
   ]
  },
  {
   "cell_type": "code",
   "execution_count": null,
   "metadata": {},
   "outputs": [],
   "source": [
    "import sys\n",
    "print (sys.path)"
   ]
  },
  {
   "cell_type": "code",
   "execution_count": null,
   "metadata": {
    "collapsed": true
   },
   "outputs": [],
   "source": []
  }
 ],
 "metadata": {
  "kernelspec": {
   "display_name": "Python 3",
   "language": "python",
   "name": "python3"
  },
  "language_info": {
   "codemirror_mode": {
    "name": "ipython",
    "version": 3
   },
   "file_extension": ".py",
   "mimetype": "text/x-python",
   "name": "python",
   "nbconvert_exporter": "python",
   "pygments_lexer": "ipython3",
   "version": "3.6.2"
  }
 },
 "nbformat": 4,
 "nbformat_minor": 2
}

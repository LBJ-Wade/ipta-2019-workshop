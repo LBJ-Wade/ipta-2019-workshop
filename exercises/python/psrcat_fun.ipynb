{
 "cells": [
  {
   "cell_type": "markdown",
   "metadata": {},
   "source": [
    "## Fun with PSRCAT"
   ]
  },
  {
   "cell_type": "markdown",
   "metadata": {},
   "source": [
    "The ATNF pulsar catalogue stores basic timing parameter information about all known pulsars. There are two primary ways to access PSRCAT. One is through the [website](http://www.atnf.csiro.au/research/pulsar/psrcat/). Two is to [download](http://www.atnf.csiro.au/research/pulsar/psrcat/download.html) the command-line program and follow the instructions to install.\n",
    "\n",
    "Let's grab some basic information from the catalog. Let's grab the pulsar names, spin periods (P0), spin period derivatives (P1), and dispersion measure (DM, just for fun). To make things easy for you, we've run the following command\n",
    "\n",
    "`psrcat -c \"JNAME P0 P1 DM\" > psrcat_output.txt`\n",
    "\n",
    "for you already. The `\"-c\"` tells `psrcat` which parameters to look up. A list of parameters can be viewed by typing `psrcat -p` and as usual you can find help using `psrcat -h`.\n",
    "\n",
    "Here's what the top and bottom of the file looks like:"
   ]
  },
  {
   "cell_type": "code",
   "execution_count": 1,
   "metadata": {},
   "outputs": [
    {
     "name": "stdout",
     "output_type": "stream",
     "text": [
      "------------------------------------------------------------------------------------------------------------------------------------\n",
      "#     PSRJ                     P0                                     P1                               DM                           \n",
      "                               (s)                                                                     (cm^-3 pc)                   \n",
      "------------------------------------------------------------------------------------------------------------------------------------\n",
      "1     J0002+6216    cwp+17     0.1153635682680         14  cwp+17     5.96703E-15        7  cwp+17     *              0  *          \n",
      "2     J0006+1834    cnt96      0.69374767047           14  cn95       2.097E-15         12  cn95       11.41         55  bkk+16     \n",
      "3     J0007+7303    aaa+09c    0.3158731909             3  awd+12     3.6039E-13         5  awd+12     *              0  *          \n",
      "4     J0011+08      dsm+16     2.55287                  0  dsm+16     *                  0  *          24.9           0  dsm+16     \n",
      "5     J0014+4746    dth78      1.240699038946          11  hlk+04     5.6446E-16        14  hlk+04     30.405        13  bkk+16     \n",
      "\n",
      "\n",
      "2621  J2339-0533    rbs+14     0.00288422674154723     17  pc15       1.4102E-20         7  pc15       *              0  *          \n",
      "2622  J2340+08      dsm+13     0.3033                   0  dsm+13     *                  0  *          24             0  dsm+13     \n",
      "2623  J2343+6221    hrk+08     1.799                    0  hrk+08     *                  0  *          117            0  hrk+08     \n",
      "2624  J2346-0609    mld+96     1.181463382967           5  hlk+04     1.36305E-15        5  hlk+04     22.504        19  hlk+04     \n",
      "2625  J2352+65      hrk+08     1.164                    0  hrk+08     *                  0  *          152            0  hrk+08     \n",
      "\n",
      "2626  J2353+85      slr+14     1.011691                37  slr+14     *                  0  *          38             2  slr+14     \n",
      "2627  J2354+6155    dbtb82     0.944783886655          11  hlk+04     1.626279E-14       9  hlk+04     94.662         6  hlk+04     \n",
      "------------------------------------------------------------------------------------------------------------------------------------\n"
     ]
    }
   ],
   "source": [
    "!head -n 10 psrcat_output.txt\n",
    "!tail -n 10 psrcat_output.txt"
   ]
  },
  {
   "cell_type": "markdown",
   "metadata": {},
   "source": [
    "You can see that by default the header is given and a small footer at the bottom is also provided. For the \"J\" name (J2000 epoch), only references are provided whereas for the other parameters, the values, the errors, and the references are provided. You can find the list of references [here](http://www.atnf.csiro.au/research/pulsar/psrcat/psrcat_ref.html). When no information is provided, the default null character is an asterisk. One can clip some of this information using the `\"-x\"` flag but just for clarity we have left it in.\n",
    "\n",
    "This is quite a bit free-form, but try to plot the famous period/period-derivative diagram ($P-\\dot{P}$ diagram)! Don't forget that you'll want to plot these on log-log axes. And be careful about the header/footer/null characters!"
   ]
  },
  {
   "cell_type": "code",
   "execution_count": 2,
   "metadata": {
    "collapsed": true
   },
   "outputs": [],
   "source": [
    "import numpy as np\n",
    "from matplotlib.pyplot import *"
   ]
  },
  {
   "cell_type": "code",
   "execution_count": 3,
   "metadata": {
    "collapsed": true
   },
   "outputs": [],
   "source": [
    "# Lots of space for you to work, feel free to add cells as necessary"
   ]
  },
  {
   "cell_type": "code",
   "execution_count": null,
   "metadata": {
    "collapsed": true
   },
   "outputs": [],
   "source": []
  },
  {
   "cell_type": "code",
   "execution_count": null,
   "metadata": {
    "collapsed": true
   },
   "outputs": [],
   "source": []
  },
  {
   "cell_type": "code",
   "execution_count": null,
   "metadata": {
    "collapsed": true
   },
   "outputs": [],
   "source": []
  },
  {
   "cell_type": "code",
   "execution_count": null,
   "metadata": {
    "collapsed": true
   },
   "outputs": [],
   "source": []
  },
  {
   "cell_type": "markdown",
   "metadata": {},
   "source": [
    "If you're feeling very adventurous, you can plot several types of isolines on the plot, such as the spin-down luminosity ($\\dot{E}$), surface magnetic field strength ($B_{\\rm S}$), and characteristic age ($\\tau_{\\rm c}$). These three quantities can be derived directly from $P$ and $\\dot{P}$ assuming pure dipole radiation:\n",
    "\n",
    "* $\\displaystyle{\\dot{E} = 4\\pi^2 I P \\dot{P}}$, where the moment of inertia $I \\sim M_{\\rm NS} R_{\\rm NS}^2$, and typical neutron stars have masses of $1.4~M_\\odot$ and radii $12~$km.\n",
    "* $\\displaystyle{B_{\\rm S} = \\sqrt{\\frac{3c^3}{8\\pi^2} \\frac{I}{R^6 \\sin^2\\alpha} P \\dot{P}}}$, where $\\alpha$ is the angle between the magnetic moment and rotational axis (you can assume $90^\\circ$ for ease here).\n",
    "* $\\displaystyle{\\tau_{\\rm c} = \\frac{P}{2\\dot{P}}}$\n",
    "\n",
    "Have fun!"
   ]
  },
  {
   "cell_type": "code",
   "execution_count": null,
   "metadata": {
    "collapsed": true
   },
   "outputs": [],
   "source": []
  },
  {
   "cell_type": "code",
   "execution_count": null,
   "metadata": {
    "collapsed": true
   },
   "outputs": [],
   "source": []
  },
  {
   "cell_type": "code",
   "execution_count": null,
   "metadata": {
    "collapsed": true
   },
   "outputs": [],
   "source": []
  },
  {
   "cell_type": "code",
   "execution_count": null,
   "metadata": {
    "collapsed": true
   },
   "outputs": [],
   "source": []
  }
 ],
 "metadata": {
  "kernelspec": {
   "display_name": "Python 3",
   "language": "python",
   "name": "python3"
  },
  "language_info": {
   "codemirror_mode": {
    "name": "ipython",
    "version": 3
   },
   "file_extension": ".py",
   "mimetype": "text/x-python",
   "name": "python",
   "nbconvert_exporter": "python",
   "pygments_lexer": "ipython3",
   "version": "3.6.2"
  }
 },
 "nbformat": 4,
 "nbformat_minor": 2
}

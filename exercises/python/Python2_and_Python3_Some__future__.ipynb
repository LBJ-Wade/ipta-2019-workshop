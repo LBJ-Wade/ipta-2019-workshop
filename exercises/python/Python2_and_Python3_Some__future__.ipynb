{
 "cells": [
  {
   "cell_type": "markdown",
   "metadata": {},
   "source": [
    "### 2 vs. 3: the great schism\n",
    "\n",
    "Python2 and Python3 have some significant differences which generally make code written in one incompatible with running in the interpreter of the other. As an aside, in [semantic versioning](https://semver.org), the first number is the _major version_ and a major version incremement can break calls to the software (Python, in this case) which used to work, or have them produce different output; the number after the point is a minor version, and while this typically involves new functionality, the old calls should still all work as expected. Although software around the world doesn't necessarily obey these rules all of the time, the Python2 vs Python3 transition definitely does result in broken calls, and also calls which no longer behave the same way. This is still an ongoing problem, although not as bad as it used to be."
   ]
  },
  {
   "cell_type": "markdown",
   "metadata": {},
   "source": [
    "#### The __future__ to the rescue\n",
    "\n",
    "For some partial relief, there _is_ the Python2 `__future__` module (strictly _not_ a module, actually, but it acts something like one) which you can use in Python2 to get some Python3-like behaviour. You can read more about `__future__` at [this page](http://python-future.org/imports.html)\n",
    "\n",
    "Here we give a brief example, using `print` (the failure of which is often the first sign that you're trying to run Python code in the wrong major version interpreter):"
   ]
  },
  {
   "cell_type": "code",
   "execution_count": null,
   "metadata": {},
   "outputs": [],
   "source": [
    "#This is how you print in Python2\n",
    "print \"Hello, world\""
   ]
  },
  {
   "cell_type": "code",
   "execution_count": null,
   "metadata": {
    "collapsed": true
   },
   "outputs": [],
   "source": [
    "#This is how you get Python3 print behaviour in Python2\n",
    "from __future__ import print_function"
   ]
  },
  {
   "cell_type": "code",
   "execution_count": null,
   "metadata": {},
   "outputs": [],
   "source": [
    "#if you have already run the import above, this will break\n",
    "print \"Hello, world\"\n"
   ]
  },
  {
   "cell_type": "code",
   "execution_count": null,
   "metadata": {
    "collapsed": true
   },
   "outputs": [],
   "source": [
    "#This is how you print in Python3\n",
    "print (\"Hello, world\")"
   ]
  },
  {
   "cell_type": "markdown",
   "metadata": {},
   "source": [
    "Now try to run the top cell again and it should fail, because the `print` keyword from Python2 is now replaced with the `print` function from Python3 (the Notebook kernel remembers what's been imported; as mentioned elsewhere, this can cause some problems when debugging but you can always restart the kernel above with `Kernel > Restart` or `Kernel > Restart and clear output`)."
   ]
  },
  {
   "cell_type": "markdown",
   "metadata": {},
   "source": [
    "### Division: another big difference\n",
    "\n",
    "#### In Python2\n",
    "\n",
    "The behaviour when you divided two integers in Python2 was the same as that in C; the output was an integer, basically the integer part of the float you would get if you wrote out the answer with full precision, as seen below:"
   ]
  },
  {
   "cell_type": "code",
   "execution_count": null,
   "metadata": {
    "collapsed": true
   },
   "outputs": [],
   "source": [
    "3/2"
   ]
  },
  {
   "cell_type": "markdown",
   "metadata": {},
   "source": [
    "#### In Python3\n",
    "\n",
    "In Python3, the new behaviour is to return the float you might have been expecting. In most cases this might not matter, but it can lead to insidious bugs when porting code from Python2 to Python3. In Python3, the old Python2 behaviour can be duplicated using `//`; below, we import `division` from `__future__`, and divide 3 by 2 with both `/` and `//`:"
   ]
  },
  {
   "cell_type": "code",
   "execution_count": null,
   "metadata": {
    "collapsed": true
   },
   "outputs": [],
   "source": [
    "from __future__ import division\n",
    "3/2"
   ]
  },
  {
   "cell_type": "code",
   "execution_count": null,
   "metadata": {
    "collapsed": true
   },
   "outputs": [],
   "source": [
    "from __future__ import division\n",
    "3//2"
   ]
  },
  {
   "cell_type": "markdown",
   "metadata": {},
   "source": [
    "### 2 vs. 3: the future\n",
    "\n",
    "Python2 won't go past version 2.7.xx; there'll be small updates made, but no new functionality. Python3 is under active development and most major Python packages are now developed on Python3 and may not be getting future Python2 updates. However, we have plenty of Python2 code lying around, so it won't go away and the decision of in which Python to write new code is more complicated for astronomers than for many other programmers.\n",
    "\n",
    "#### Python2 _and_ Python3\n",
    "\n",
    "You can have installations of both Python2 and Python3 on your machine, and also multiple different minor versions of either. It can also be important to retain existing versions of Python for system operations (the package manager on Red Hat Enterprise Linux and its derivatives, such as CentOS, depends on a particular version of Python). The use of `virtualenv` is recommended for solving this issue, allowing you to have several applications written for different versions of Python, each runnable with the appropriate interpreter; for this and for other reasons (such as portability), `virtualenv` is an important technology both for Python programmers and the people who run the systems on which they run their code."
   ]
  },
  {
   "cell_type": "markdown",
   "metadata": {},
   "source": [
    "### Where can I find out more?\n",
    "\n",
    "You can get more details of the differences between Python2 and Python3 (and some advice) via [this link](https://wiki.python.org/moin/Python2orPython3)"
   ]
  }
 ],
 "metadata": {
  "kernelspec": {
   "display_name": "Python 2",
   "language": "python",
   "name": "python2"
  },
  "language_info": {
   "codemirror_mode": {
    "name": "ipython",
    "version": 2
   },
   "file_extension": ".py",
   "mimetype": "text/x-python",
   "name": "python",
   "nbconvert_exporter": "python",
   "pygments_lexer": "ipython2",
   "version": "2.7.13"
  }
 },
 "nbformat": 4,
 "nbformat_minor": 2
}

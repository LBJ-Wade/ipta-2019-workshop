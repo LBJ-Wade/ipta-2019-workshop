{
 "cells": [
  {
   "cell_type": "markdown",
   "metadata": {},
   "source": [
    "# Control-of-flow, and file access\n",
    "\n",
    "Control-of-flow in many cases comes down to seeing if something has a particular property and acting on that, often embedded in a _loop_ which repeats the same task for a pre-set number of repetitions or until a given condition is met. Additionally, files are a convenient and simple way to store enduring data, and Python can be used very easily to read from and write to file.\n",
    "\n",
    "Much of the material here is from the [Cornell Virtual Workshop on Python](https://cvw.cac.cornell.edu/pythonintro/), which you can read for additional details"
   ]
  },
  {
   "cell_type": "markdown",
   "metadata": {},
   "source": [
    "## Indentation and code blocks. Scope\n",
    "\n",
    "Before going into these topics, we need to introduce the concept of a code block and understand its relationship to indentation, as they are very important in Python programming.\n",
    "\n"
   ]
  },
  {
   "cell_type": "markdown",
   "metadata": {},
   "source": [
    "### Code blocks and indentation\n",
    "\n",
    "A code block is one or more lines of code that are intended to be executed as a set. For example, a code block may be a function body, or the statements within a loop.\n",
    "\n",
    "In the C programming language, a code block must be enclosed by a pair of curly brackets, and is often accompanied by (non-required) indentation for clarity to make it easier for humans to read. In Python, however, a code block is defined by the amount of indented space. Lines of code that have an equal amount of indentation, or blank spaces at the start of the line, are in the same code block. In the following example, lines 2 through 4 belong to one code block. \n",
    "\n",
    "`line1\n",
    "    line2\n",
    "    line3\n",
    "    line4\n",
    "line5`\n",
    "\n",
    "Indentation is **mandatory** in Python and must be exact. Adding spaces to improve readability in Python may produce syntax errors or, even worse, run time errors that can be very difficult to discover. If you are using a Python-aware development environment, including this Jupyter Notebook, you have probably found that it inserts intelligent indents for you, although sometimes you may need to remove the last one when you've finished a block (you can normally do that with `<shift>-<tab>`)\n",
    "\n",
    "#### Tabs vs. spaces\n",
    "\n",
    "It is important to note that tabs and spaces are interpreted differently in Python. Either tabs or spaces can be used but they should not be mixed (they are not the same thing, and the equivalent number of spaces a tab comprises depends on editor settings, rather than definition). _According to the Style Guide for Python Code, spaces are preferred to tabs._ Most text editors can be set to insert spaces when the tab key is pressed (that should be what happens in these Jupyter Notebooks; have a check!); as per the Python Style Guide, the preferred incremental spacing for successive indentations is **four spaces**.\n"
   ]
  },
  {
   "cell_type": "markdown",
   "metadata": {},
   "source": [
    "### Nesting\n",
    "\n",
    "Code blocks can be nested. The following example demonstrates what a nested code block might look like:\n",
    "\n",
    "`condition1\n",
    "    statement1\n",
    "condition2\n",
    "    statement2\n",
    "    condition3\n",
    "        statement3`\n",
    "\n",
    "Here, if condition1 is true, then statement1 is executed; otherwise it is skipped. If condition2 is true, then statement2 is executed and condition3 is evaluated. **_Reason_**: statement2 and condition3 have the same amount of indentation and therefore belong to the same code block. However, if condition2 turns out to be false, then condition3 is never evaluated and statement3 cannot be reached.\n",
    "\n",
    "In general, the following rules apply when programming in Python:\n",
    "* Statements within the same block of code need to be indented at the same level.\n",
    "* The amount of indentation matters: a missing or extra space in a Python block could cause an error or unexpected behavior."
   ]
  },
  {
   "cell_type": "markdown",
   "metadata": {},
   "source": [
    "### Scope\n",
    "\n",
    "The scope of a variable means all the parts of the program where the variable can be accessed. In Python, scope is controlled by indentation, too. Variables in the main body (unindented) are global; they are accessible everywhere in the code. Variables defined in an indented block (including inside a function, which we'll cover elsewhere), though, are accessible only in that block and in its nested blocks. For example, variables defined in an if-block aren’t available outside that if-block."
   ]
  },
  {
   "cell_type": "markdown",
   "metadata": {},
   "source": [
    "## Conditionals\n",
    "\n",
    "Here we have `if`, `else` and `elif` (else-if). In essence, when the expression after the `if` evaluates to `True`, then the indented block following the `if` statement is executed. On those occasions where the `if` statement is followed, at the same level of indentation, as an `else` statement, the indented block following the `else` statement will be executed _instead_.\n",
    "\n",
    "`if Boolean_expression: # True => execute the following code block\n",
    "    statement1\n",
    "    statement2\n",
    "else: # the expression is False => execute the following code block\n",
    "    statement3\n",
    "    statement4`\n",
    "\n",
    "In the above, \"Boolean expression\" means something which evaluates to `True` or `False`; as in other languages, the empty string `\"\"` will evaluate to `False` and any other string will evaluate `True`, and an `int` evaluates `False` for 0 and `True` for any other values, _but it can be dangerous to rely on that behaviour_ unless you're very sure you know what the type of the variable will be (remember, Python is duck-typed).\n",
    "\n",
    "Finally, there's `elif`, which means \"if the preceding `if` or `elif` didn't evaluate true, check this Boolean expression and if it's `True` then execute the following indented code block. `if`...`elif`...`elif` is how you can achieve in Python the `case` and `switch` functionality available in other languages."
   ]
  },
  {
   "cell_type": "code",
   "execution_count": null,
   "metadata": {
    "collapsed": true
   },
   "outputs": [],
   "source": [
    "k = 1\n",
    "if k==0:\n",
    "    print('k=0')\n",
    "elif k==1:\n",
    "    print('k=1')\n",
    "elif k==2:\n",
    "    print('k=2')\n",
    "else:\n",
    "    print('The else statement was reached')\n"
   ]
  },
  {
   "cell_type": "markdown",
   "metadata": {},
   "source": [
    "### But what _is_ truth, really?\n",
    "\n",
    "Things you can check for aren't just limited to Boolean variables and implicit Booleans like the empty string, as mentioned above. Python contains `None` (equivalent to `null` in other languages), equality-checking, not-equals, negation with `not`, rxistence with `is`, and also you can test for membership with `in`. See some examples below and play around with them a bit"
   ]
  },
  {
   "cell_type": "code",
   "execution_count": null,
   "metadata": {},
   "outputs": [],
   "source": [
    "# None can be useful\n",
    "a = 2\n",
    "if a is not None:\n",
    "    print(\"huzzah!\")\n",
    "\n",
    "#You can see if something is included; also works on lists and dictionary keys\n",
    "b = \"heffalump\"\n",
    "if 'heffal' in b:\n",
    "    print(\"I suspect it's a heffalump\")\n",
    "\n",
    "#test for equality with `==` and inequality with `!=`\n",
    "c=4\n",
    "if a==b:\n",
    "    print(\"weird\")\n",
    "elif a!=c:\n",
    "    print(\"stands to reason, really\")\n",
    "if not a>c:\n",
    "    print(\"a is smaller than b\")"
   ]
  },
  {
   "cell_type": "markdown",
   "metadata": {},
   "source": [
    "## Loops\n",
    "\n",
    "It wouldn't make sense to, say, write the same processing code for each value in a list. We use loops to deal with that; there's two kinds of loop in Python, `while` and `for` loops."
   ]
  },
  {
   "cell_type": "markdown",
   "metadata": {},
   "source": [
    "### `while` loops\n",
    "\n",
    "This type of loop keeps executing a block of code as long as some specified condition holds true. The basic syntax of the while loop is:\n",
    "\n",
    "`while Boolean_expression: # True => execute the following code block\n",
    "    statement1\n",
    "    statement2`\n",
    "\n",
    "For example, by introducing a counter it is possible to make a while loop repeat some integer number of times: \n"
   ]
  },
  {
   "cell_type": "code",
   "execution_count": null,
   "metadata": {
    "collapsed": true
   },
   "outputs": [],
   "source": [
    "count = 0\n",
    "while count < 4:\n",
    "    print(count)\n",
    "    count += 1"
   ]
  },
  {
   "cell_type": "markdown",
   "metadata": {},
   "source": [
    "##### A word of caution!\n",
    "\n",
    "Take care to avoid creating infinite loops which never complete and won’t be exited!"
   ]
  },
  {
   "cell_type": "markdown",
   "metadata": {},
   "source": [
    "### `for` loops\n",
    "\n",
    "The `for` loop iterates over a fixed sequence in a list. Python’s `for` loop can repeat over any iterable sequence of items; it can also follow a specific numerical sequence. For example, the for loop can iterate through a list of strings ['apple','orange','cherry','pineapple'], a regular numerical sequence [1,2,3,4,5,6,7], or a random sequence of floats [10.0, 2.11, 6.32, 3.32, 4.67, 5.94, 9.51, 23.02].\n",
    "\n",
    "Here is the basic syntax of the for loop:\n",
    "\n",
    "`for value_a in list_of_values_b:\n",
    "    statement1\n",
    "    statement2`\n",
    "\n",
    "The following shows a simple example:"
   ]
  },
  {
   "cell_type": "code",
   "execution_count": null,
   "metadata": {
    "collapsed": true
   },
   "outputs": [],
   "source": [
    "x = ['John', 'Joe', 'Andrew', 'Philip']\n",
    "for i in x:\n",
    "    print(i)\n"
   ]
  },
  {
   "cell_type": "markdown",
   "metadata": {},
   "source": [
    "#### Home on the `range`\n",
    "\n",
    "A particularly useful item--specifically, in Python3, a [\"sequence type\"](https://docs.python.org/3.6/library/stdtypes.html#typesseq) like lists and tuples--is `range`. It contains a sequence of integers and is very useful as the iterable object given to a `for` loop to define its execution. You can specify only the `stop` point (in which case it starts at zero), or a `start`, `stop` and an optional `step`):"
   ]
  },
  {
   "cell_type": "code",
   "execution_count": null,
   "metadata": {
    "collapsed": true
   },
   "outputs": [],
   "source": [
    "for x in range(4):\n",
    "    print (x)\n",
    "print()\n",
    "\n",
    "for x in range(3, 23, 2):\n",
    "    print (x)\n"
   ]
  },
  {
   "cell_type": "markdown",
   "metadata": {},
   "source": [
    "## `pass`, `continue` and `break`\n",
    "\n",
    "These instructions allow you to modify the scoping logic somewhat, to either ignore the lack of an indented statement, to jump back to the top of a loop, and to break out of an indented block altogether."
   ]
  },
  {
   "cell_type": "markdown",
   "metadata": {},
   "source": [
    "### `pass`\n",
    "\n",
    "Sometimes in the process of developing code, we want to define a code block that we intend to fill later, though for now we have to leave it empty, but that would cause a syntax error.  For cases like this, the pass statement can be very helpful, as it doesn’t do anything more than act as a placeholder in situations where a statement is syntatically required. For example, this returns an error:\n"
   ]
  },
  {
   "cell_type": "code",
   "execution_count": null,
   "metadata": {
    "collapsed": true
   },
   "outputs": [],
   "source": [
    "a = 2\n",
    "if a in range(1,5):\n",
    "    #TODO: put some code in here\n"
   ]
  },
  {
   "cell_type": "markdown",
   "metadata": {},
   "source": [
    "But this is fine:"
   ]
  },
  {
   "cell_type": "code",
   "execution_count": null,
   "metadata": {
    "collapsed": true
   },
   "outputs": [],
   "source": [
    "a = 2\n",
    "if a in range(1,5):\n",
    "    #TODO: put some code in here\n",
    "    pass"
   ]
  },
  {
   "cell_type": "markdown",
   "metadata": {},
   "source": [
    "### `continue`\n",
    "\n",
    "Continue just moves you back to the top of the loop and starts the next iteration. You could use this if for some reason all that needs to be done in that iteration is done, and you want to start another loop (note that in this simple example, you could have also used `if`...`else`)."
   ]
  },
  {
   "cell_type": "code",
   "execution_count": null,
   "metadata": {
    "collapsed": true
   },
   "outputs": [],
   "source": [
    "name_list = ['adam', 'nate', 'kevin', 'paul', 'ryan', 'engelbert', 'aristophenes', 'jim']\n",
    "print (\"And the short names are: \")\n",
    "for name in name_list:\n",
    "        if len(name) > 4:\n",
    "            continue\n",
    "        print (name)"
   ]
  },
  {
   "cell_type": "markdown",
   "metadata": {},
   "source": [
    "Alternatively, sometimes (**danger!** Don't forget to remove it afterwards!) want to not execute some code while debugging. Let's say that you know `my_timeconsuming_function` is working properly and want to check that `b` is coming out as you expect:"
   ]
  },
  {
   "cell_type": "code",
   "execution_count": null,
   "metadata": {
    "collapsed": true
   },
   "outputs": [],
   "source": [
    "a = 2\n",
    "def my_timeconsuming_function():\n",
    "    cumulative = 0\n",
    "    for a in range(1, 100000000):\n",
    "        cumulative += a\n",
    "        \n",
    "for b in range(1,5):\n",
    "    print(b)\n",
    "    continue\n",
    "    my_timeconsuming_function()"
   ]
  },
  {
   "cell_type": "markdown",
   "metadata": {},
   "source": [
    "### `break`\n",
    "\n",
    "`break`, on the other hand, just breaks you out of your current blocks (works in loops and also `if`):"
   ]
  },
  {
   "cell_type": "code",
   "execution_count": null,
   "metadata": {
    "collapsed": true
   },
   "outputs": [],
   "source": [
    "name_list = ['adam', 'nate', 'kevin', 'paul', 'ryan', 'engelbert', 'aristophenes', 'jim']\n",
    "print (\"And the short names are: \")\n",
    "for name in name_list:\n",
    "        if len(name) > 8:\n",
    "            print (\"\\n\\n*****STOP*****\\n\\n We found a really long name: \", name)\n",
    "            break\n",
    "        print (name)"
   ]
  },
  {
   "cell_type": "markdown",
   "metadata": {},
   "source": [
    "## Files\n",
    "\n",
    "Much of our data lives in files. While we will look a little at reading astronomy data from PSRFITS files elsewhere and through the week, we often also need the basic functionality reading from, and writing to, simpler files."
   ]
  },
  {
   "cell_type": "markdown",
   "metadata": {},
   "source": [
    "### Opening files\n",
    "\n",
    "To access a specific file in the file system, you must create a file object and associate the correct filename to it. This file object may be instantiated with the open() function. Usually open() takes two arguments, the filename and the access mode. Thus, the open() function has the following syntax:\n",
    "\n",
    "`fileobj = open('path/to/file/filename',mode)`\n",
    "\n",
    "The basic file modes are given below:\n",
    "\n",
    "| Mode | Name     | File Status | Starts At | Write Position |\n",
    "| :--: | :----     |:----------- |:--------- |:-------------- |\n",
    "| 'r'  |Read Only | Must exist  | Beginning | Not allowed    |\n",
    "| 'w'  |Write Only| File is created OR EMPTIED | Beginning | Writes after first may be positioned with `seek`|\n",
    "| 'a'  |Appendly Only|File is created or exists| End | Writes at end of file|\n",
    "| 'r+' |Read and Write|File must exist|Beginning|Writes (after first) may be positioned with `seek`|\n",
    "| 'w+' |Write and Read|File is created OR EMPTIED|Beginning|Writes (after first) may be positioned with `seek`|\n",
    "| 'a+' |Append and Read|File is created or exists|Beginning|Writes ALWAYS move to the end of the file|\n",
    "\n",
    "You can see some extra details, such as guidance on using `seek`, [at the file IO page](https://cvw.cac.cornell.edu/pythonintro/fileio) of the Cornell Virtual Workshop. Although we are not going to cover it here, Python will also read and write binary (bytes), which requires including a `'b'` in the Mode in addition to the `'r'`, etc (ie, `'rb'`)\n",
    "\n",
    "In the same directory as this Notebook is a tab-delimited file called `pulsar_file`, which contains a lot of known pulsars. We are going to look at the first 10 lines\n"
   ]
  },
  {
   "cell_type": "code",
   "execution_count": null,
   "metadata": {
    "collapsed": true
   },
   "outputs": [],
   "source": [
    "pulsar_file = open('some_pulsars.txt', 'r')\n",
    "for x in range(10):\n",
    "    line = pulsar_file.readline()\n",
    "    print(line)\n",
    "pulsar_file.close()"
   ]
  },
  {
   "cell_type": "markdown",
   "metadata": {},
   "source": [
    "You should note that there's an extra space inserted between each line; this is an issue that's fairly common and it is because `readline` also reads the newline at the end of each line as part of the string, and `print` adds one by default as well. We can stop that by giving `end=''` to `print`, or we can strip the newline using `line.strip()`. **Exercise:** try both of those methods in the code above.\n",
    "\n",
    "You should also note that the file had to be closed at the end; this is _really_ important otherwise your program will maintain a grip on the file and you can get unexpected issues including incomplete writes if the code is interrupted, even if writing _should_ be finished. We will look at a way to avoid that, using `with`, next."
   ]
  },
  {
   "cell_type": "markdown",
   "metadata": {},
   "source": [
    "Probably we won't be wanting the header line. We also don't want to have to remember to close the file. Let's see how we can do that, using a different construction for reading the file and using `break` to exit the reading loop. Here we see a few of the things we've discussed earlier in operation."
   ]
  },
  {
   "cell_type": "code",
   "execution_count": null,
   "metadata": {
    "collapsed": true
   },
   "outputs": [],
   "source": [
    "counter = 0\n",
    "with open('some_pulsars.txt', 'r') as pulsar_file:\n",
    "    for line in pulsar_file:\n",
    "        if '#' in line:\n",
    "            continue\n",
    "        print(line)\n",
    "        counter += 1\n",
    "        if counter == 10:\n",
    "            break\n"
   ]
  },
  {
   "cell_type": "markdown",
   "metadata": {},
   "source": [
    "Now, pulsar name is a pretty good key, and we might well want to use it to pull out the useful information; that is, we could have one dictionary entry per pulsar, for now with the value just being a list of the other parameters (one could imagine wanting _them_ as `key:value` pairs, as well; you could choose to make the `value` a dictionary of it's own!). To get that information, we'll need to split the line, put the first element into the dictionary as a key, and then put the rest into the value for that dictionary element (note that we also stripped the newline from each line, so that the dispersion measure value didn't have a newline at its end)."
   ]
  },
  {
   "cell_type": "code",
   "execution_count": null,
   "metadata": {
    "collapsed": true
   },
   "outputs": [],
   "source": [
    "counter = 0\n",
    "pulsar_dict = {}\n",
    "with open('some_pulsars.txt', 'r') as pulsar_file:\n",
    "    for line in pulsar_file:\n",
    "        if '#' in line:\n",
    "            continue\n",
    "        line_elements = (line.strip()).split('\\t')\n",
    "        pulsar_dict[line_elements[0]] = line_elements[1:]\n",
    "        counter += 1\n",
    "        if counter == 10:\n",
    "            break\n",
    "print (pulsar_dict)"
   ]
  },
  {
   "cell_type": "markdown",
   "metadata": {},
   "source": [
    "Using `with` means that the file will be closed when you exit the scope of the `with`; this is generally an excellent idea. A file object is iterable by the line, so we were able to use a `for` loop which read a new line into the `line` loop variable each iteration, and then operate on it. Finally, after stripping any leading or trailing whitespace (including newlines) with `strip()` we split on occurences of tabs to get a list.\n",
    "\n",
    "Now, you will note that these are all strings, as they've been read from a text file; the `ra` and `dec` values are `hms` and `dms` respectively--we'd probably use `astropy` to convert them to decimal degrees if we wanted to perform operations on them, or cast them into a `coordinate` object (both of which we demonstrate in [this notebook](getting_stuff_done.ipynb))--but the period and dm should be cast to floats if they were going to be used in subsequent calculations. **Exercise** Below, write a loop to convert the period and dispersion measure to floats before putting them into the dictionary. Print out the details of the pulsar with the highest dispersion measure."
   ]
  },
  {
   "cell_type": "code",
   "execution_count": null,
   "metadata": {
    "collapsed": true
   },
   "outputs": [],
   "source": []
  },
  {
   "cell_type": "markdown",
   "metadata": {},
   "source": [
    "As a brief example of file-_writing_ let's put all the globular cluster pulsars in that first ten--the ones whose name is like `B0021-72`--into their own file, comma-delimited (note that we use a `with` statement for both the file we're reading _and_ the one we're writing; files open for writing need to be closed, too!)."
   ]
  },
  {
   "cell_type": "code",
   "execution_count": null,
   "metadata": {
    "collapsed": true
   },
   "outputs": [],
   "source": [
    "counter = 0\n",
    "with open('some_pulsars.txt', 'r') as pulsar_file:\n",
    "    with open('some_gc_pulsars.txt', 'a') as gc_pulsar_file:\n",
    "        for line in pulsar_file:\n",
    "            if '#' in line:\n",
    "                continue\n",
    "            if 'B0021-72' in line:\n",
    "                line = line.replace('\\t',',')\n",
    "                gc_pulsar_file.write(line)\n",
    "            counter += 1\n",
    "            if counter == 10:\n",
    "                break\n"
   ]
  },
  {
   "cell_type": "markdown",
   "metadata": {},
   "source": [
    "Go back to the root directory (click on the Jupyter logo above) and see what you've got! Note that as we selected `append` mode, if you ran this twice you'd end up with the same pulsars written in again, extra. If you'd used `write` mode then you'd have flushed the old file contents and just got the same result again."
   ]
  },
  {
   "cell_type": "code",
   "execution_count": null,
   "metadata": {
    "collapsed": true
   },
   "outputs": [],
   "source": []
  }
 ],
 "metadata": {
  "kernelspec": {
   "display_name": "Python 3",
   "language": "python",
   "name": "python3"
  },
  "language_info": {
   "codemirror_mode": {
    "name": "ipython",
    "version": 3
   },
   "file_extension": ".py",
   "mimetype": "text/x-python",
   "name": "python",
   "nbconvert_exporter": "python",
   "pygments_lexer": "ipython3",
   "version": "3.6.2"
  }
 },
 "nbformat": 4,
 "nbformat_minor": 2
}

{
 "cells": [
  {
   "cell_type": "markdown",
   "metadata": {},
   "source": [
    "# Functions and a little bit of classes\n",
    "\n",
    "Functions will be familiar to users of almost every other programming language; they enhance re-usability, readability, modular development. Python is also an _Object-Oriented_ programming language (as are many of the languages which came after `C`, such as `C++` and `Java`); the key programming unit in Object-Oriented Programming (OOP) is the _class_ we will give some information on how to execute OOP in your Python code, with a particular emphasis on being able to _read_ and _understand_ Object-Oriented code (`astropy`, for example).\n",
    "\n",
    "Some of the text here is taken from the Cornell Virtual Workshop [\"An Introduction to Python\"](https://cvw.cac.cornell.edu/pythonintro)"
   ]
  },
  {
   "cell_type": "markdown",
   "metadata": {},
   "source": [
    "## Writing a function\n",
    "\n",
    "A Python function consists of a code block appearing between the `def` and `return` statements. The `def` statement specifies the name of the function, together with its parameters (which inside the function will be the names for the arguments--the actual data--you send to the function when you call it). The `return` statement may optionally specify a return value (which can be blank/nothing, a simple object like a string or a number, or something more complex like a dictionary, list or a user-defined type as discussed later); often one thinks of this as the value of the function for the given inputs. In between, the function body comprises an independent code block, i.e., the variables in it are not accessible outside of the function.\n",
    "\n",
    "The syntax of a function typically looks like the following: \n",
    "\n",
    "`def function_name(parameter1, parameter2...):\n",
    "    statement1\n",
    "    statement2\n",
    "    return A_value_or_blank` \n",
    "\n",
    "There is a discussion of the issues of positional vs. keywork arguments in the [Basics Notebook](Basic_basics.ipynb), in the context of _calling_ functions: the advice given there is also useful here."
   ]
  },
  {
   "cell_type": "code",
   "execution_count": null,
   "metadata": {
    "collapsed": true
   },
   "outputs": [],
   "source": [
    "def are_you_a_chipmunk(like_acorns):\n",
    "    if like_acorns:\n",
    "        print(\"You may be a chipmunk. Consult a vet\")\n",
    "    else:\n",
    "        print(\"You are probably not a chipmunk\")\n",
    "        \n",
    "are_you_a_chipmunk(like_acorns=True)\n"
   ]
  },
  {
   "cell_type": "markdown",
   "metadata": {},
   "source": [
    "Note that the parameter type isn't specified, so the argument can have any type; this can cause all sorts of problems. Try submitting, `False`, a string, the empty string(`\"\"`), `0` and `3`. There are implicit Boolean values for other types, but relying on that can sometimes be dangerous if you don't do some type-checking first using `isinstance`. You can also specify the parameter name and submit `like_acorns=True` but doing that for positional arguments when there are _multiple_ positional arguments is problematic as keyword arguments--such as you'd be submitting with `like_acorns=True` need to come _after_ positional arguments. \n",
    "\n",
    "**Exercise** Play around with the function call below to see how to work this out and note that passing both arguments as keyword arguments _does_ work and means you aren't tied to the order in which you submit the arguments; it also makes code _much_ easier to read with several arguments being passed in, as you can see more easily what is being submitted for which parameter."
   ]
  },
  {
   "cell_type": "code",
   "execution_count": null,
   "metadata": {
    "collapsed": true
   },
   "outputs": [],
   "source": [
    "def are_you_a_chipmunk(like_acorns, really):\n",
    "    if like_acorns and really:\n",
    "        print(\"You may be a chipmunk. Consult a vet\")\n",
    "    else:\n",
    "        print(\"You are probably not a chipmunk\")\n",
    "        \n",
    "are_you_a_chipmunk(False, like_acorns=True)"
   ]
  },
  {
   "cell_type": "markdown",
   "metadata": {},
   "source": [
    "### Default arguments\n",
    "\n",
    "If you'd like some arguments to be optional, you specify a default value for them (which can also be `None`, which evaluates to `false` in a conditional statement but you'd be better to check for it with `is None` or `is not None`). Here's a toy example that adds up to two numbers together:"
   ]
  },
  {
   "cell_type": "code",
   "execution_count": null,
   "metadata": {
    "collapsed": true
   },
   "outputs": [],
   "source": [
    "def simple_add(a=0, b=0):\n",
    "    print(\"a: \", str(a))\n",
    "    print(\"b: \", str(b))\n",
    "    return a+b\n",
    "\n",
    "simple_add()\n"
   ]
  },
  {
   "cell_type": "markdown",
   "metadata": {},
   "source": [
    "**Exercise** in the example above, play around with how you can submit arguments. Submitting as keyword arguments is probably best.\n",
    "\n",
    "**Exercise** examine why by writing a function below which divides one number by another (mixing up parameter arguments above wouldn't matter, but with division it does matter; keyword arguments stop you getting things the wrong way around). Put in a check to ensure you don't dive by zero!"
   ]
  },
  {
   "cell_type": "code",
   "execution_count": null,
   "metadata": {
    "collapsed": true
   },
   "outputs": [],
   "source": [
    "#Space for example"
   ]
  },
  {
   "cell_type": "markdown",
   "metadata": {},
   "source": [
    "#### A note on return\n",
    "\n",
    "You don't strictly _need_ a `return` statement at the end of a function if you're not going to be returning anything, but I find it makes the code easier to read. Also, you can have more than one `return`, but bear in mind that the function will complete the first time it hits a `return`; normally if there's more than one `return` you'd see all but one of them inside some sort of conditional statement, the satisfaction of which means that the function's work is done and the `return` value (if any is specified in the `return` statement) should be sent back to the calling function."
   ]
  },
  {
   "cell_type": "markdown",
   "metadata": {},
   "source": [
    "## Classes, objects and OOP\n",
    "\n",
    "You are familiar with _types_ like `int` and `string ` which are provided by the base functionality of Python, and are now familiar with items like `list`s. These are actually _classes_ and individual examples are called _objects_; if you know the class definition, you know what the properties of any object of that class will be, even through the actual individual instances can be different (in the way that 1 is different to 2, but they are both `int`). You can specify your own classes and in fact the distinction between `type` and `class` in Python isn't really real at all; people are more likely to say `type` for `int`, `float`, etc--things which are explicitly called types in other languages such as C--but in practice it's actually a good thing to remember that _everything_ in Python is an object, which means it is an instance of a given class, and will _definitely_ have the methods and attributes for that class (it could have extra ones which you define).\n",
    "\n",
    "**Warning** there's no enforced protection/privacy for objects (including functions, etc) in Python, unlike in other languages where you can specify `private`, `protected`, etc. This means you can access anything from inside a module if you can access that module; if you define objects with a leading underscore, \"`_`\", you indicate that you aren't intending that object to be accessed from outside of its module, but you can't _stop_ other code from doing it (but they will at least not be imported if you run `from module import *`, but you probably shouldn't be typing that anyhow)."
   ]
  },
  {
   "cell_type": "markdown",
   "metadata": {},
   "source": [
    "### The very basics\n",
    "\n",
    "We're not going to go into considerable detail here, although you can see more detail at [this Cornell Virtual Workshop page and the two which follow it](https://cvw.cac.cornell.edu/pythonintro/oop.aspx). Here we primarily deal with class definitions and constructors."
   ]
  },
  {
   "cell_type": "markdown",
   "metadata": {},
   "source": [
    "### Class definitions\n",
    "\n",
    "Say we have a class of things. Let's say we might be interested in, oh, pulsars. We'll write a class that has a couple of properties and a couple of methods. This isn't a very interesting class, as currently pulsar will have the same `dm` and `period` (we don't have a way of making more, with different values, yet)"
   ]
  },
  {
   "cell_type": "code",
   "execution_count": null,
   "metadata": {},
   "outputs": [],
   "source": [
    "class pulsar:\n",
    "    dm=10\n",
    "    period=2\n",
    "    def pulse():\n",
    "        print(\"boom!\")\n",
    "    def glitch():\n",
    "        print(\"oops!\")\n",
    "\n",
    "print(pulsar.dm)\n",
    "print(pulsar.period)\n",
    "pulsar.pulse()\n",
    "pulsar.glitch()"
   ]
  },
  {
   "cell_type": "markdown",
   "metadata": {},
   "source": [
    "Before we do something a bit more useful, notice that we have defined two attributes, `dm` and `period` and they are accessed with the dot notation. The class methods are functions and are called with the dot notation and parenthesis for the passing of arguments (these don't take any arguments, at present, so we just use `()`)."
   ]
  },
  {
   "cell_type": "markdown",
   "metadata": {},
   "source": [
    "#### Constructing\n",
    "\n",
    "We'd like to be able to make several pulsars with different attribute values, give them different names, etc. Here's how we do that:"
   ]
  },
  {
   "cell_type": "code",
   "execution_count": null,
   "metadata": {
    "collapsed": true
   },
   "outputs": [],
   "source": [
    "class pulsar:\n",
    "    def __init__(self, psr_name, dm, period):\n",
    "        self.name = psr_name\n",
    "        self.dm = dm\n",
    "        self.period = period\n",
    "        \n",
    "    def pulse(self):\n",
    "        print(str(self.name),\"says 'boom'\")\n",
    "        return\n",
    "        \n",
    "    def glitch(self):\n",
    "        print(self.name, \"says 'oops!'\")\n",
    "        return\n",
    "        \n",
    "    def __str__(self):\n",
    "        return(\"I am a proud pulsar and my name is %s\" % self.name)"
   ]
  },
  {
   "cell_type": "code",
   "execution_count": null,
   "metadata": {},
   "outputs": [],
   "source": [
    "my_first_pulsar = pulsar(psr_name=\"J3051+0033\", dm=12, period=0.03)\n",
    "print(my_first_pulsar.name)\n",
    "print(my_first_pulsar)\n",
    "my_first_pulsar.pulse()"
   ]
  },
  {
   "cell_type": "markdown",
   "metadata": {},
   "source": [
    "##### Woah, that's a lot of stuff going on there, for a dumb example!\n",
    "\n",
    "Well, the main and most important change here is the addition of the special `__init__` function. This is how you can use a class to make instances of that class, and without it you'd be doomed to our boring old pulsar class that printed two lines and always had the same dm and period. Here, the `__init__` function takes three arguments which are self-explanatory and the odd `self` argument; don't worry too much about it, but `self` is how an individual object knows it's operating on itself, and it's implied so that when you call the `__init__` function implicitly by assigning a new object (as we did with `my_first_pulsar`), you don't need to pass it in.\n",
    "\n",
    "So, when we created `my_first_pulsar` we input `psr_name`, `dm` and `period` as keyword arguments (to be clear about what we were sending in, otherwise a misordering could end up with confusing outcomes; here we have `psr_name` as the parameter which is set to `name` the attribute, to show that they don't _have_ to the same, although they typically are). `__init__` made us a pulsar with those values.\n",
    "\n",
    "Now, our `pulse` and `glitch` functions now take `self` as an argument; that means that the functions will have full access to the attributes of our pulsar (`name`, `dm` and `period`), so that we can then, say, have the function print the name of the pulsar. If they didn't have `self` as their argument, then they'd just be class methods (not instance methods) and you'd call them with, for example, `pulsar.glitch()` (they wouldn't have access to the attributes of the individual instance).\n",
    "\n",
    "Finally, we have another special function `__str__`; you don't need this, but if you put it in you can override the default behaviour for when someone tries to `print(object_name)`. Mostly I included it so that you get the idea that functions with a leading and trailing double underscore \"`__`\" are special."
   ]
  },
  {
   "cell_type": "markdown",
   "metadata": {},
   "source": [
    "## A chance to use all this\n",
    "\n",
    "**Exercise** Creating two pulsars with different integer periods (for simplicity), can you create code that will step through a number of integers and have each pulsar pulse at the correct time?"
   ]
  },
  {
   "cell_type": "code",
   "execution_count": null,
   "metadata": {
    "collapsed": true
   },
   "outputs": [],
   "source": []
  }
 ],
 "metadata": {
  "kernelspec": {
   "display_name": "Python 3",
   "language": "python",
   "name": "python3"
  },
  "language_info": {
   "codemirror_mode": {
    "name": "ipython",
    "version": 3
   },
   "file_extension": ".py",
   "mimetype": "text/x-python",
   "name": "python",
   "nbconvert_exporter": "python",
   "pygments_lexer": "ipython3",
   "version": "3.6.2"
  }
 },
 "nbformat": 4,
 "nbformat_minor": 2
}

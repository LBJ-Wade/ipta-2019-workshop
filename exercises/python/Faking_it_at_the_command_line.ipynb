{
 "cells": [
  {
   "cell_type": "markdown",
   "metadata": {},
   "source": [
    "# Calling code as it's called from the command line. When you have to.\n",
    "\n",
    "Ideally, compiled code you use will have Python _wrappers_, so that you can import Python modules and get the benefits of the compiled code, from Python, with values passed back in Python format, etc; this is exactly what you're getting with `numpy`, for example. Not all code has such wrappers, though, and although writing them yourself is a great idea--that's what `libstempo` (installed for Python2 and Python3 on your container already!) is for `TEMPO2`--sometimes you don't have time. In those cases, you can use Python to call the code as if you'd written out the instructions on the command line, instead of in your code.\n",
    "\n",
    "`presto`, the very popular pulsar-searching package, does actually have `Python2` wrappers, but here we're going to call it as if from the command line (this is what a lot of PALFA processing did, for example) to demonstrate how you can use the Python `subprocess` module to call code as if from the command line.\n",
    "\n",
    "Examples here are from Kevin Stovall."
   ]
  },
  {
   "cell_type": "code",
   "execution_count": null,
   "metadata": {
    "collapsed": true
   },
   "outputs": [],
   "source": [
    "#Obviously, we need subprocess\n",
    "import subprocess"
   ]
  },
  {
   "cell_type": "code",
   "execution_count": null,
   "metadata": {},
   "outputs": [],
   "source": [
    "#This isn't Python, we're getting a list of what's in our directory with a Jupyter directive\n",
    "!ls"
   ]
  },
  {
   "cell_type": "markdown",
   "metadata": {},
   "source": [
    "OK, if you don't already have the file `puppi_57166_J1404+12_1326_subs_0001.fits` in there, you are going to need it, so run this:"
   ]
  },
  {
   "cell_type": "code",
   "execution_count": null,
   "metadata": {
    "collapsed": true
   },
   "outputs": [],
   "source": [
    "!wget http://ipta.phys.wvu.edu/files/student-week-2018/puppi_57166_J1404+12_1326_subs_0001.fits"
   ]
  },
  {
   "cell_type": "markdown",
   "metadata": {},
   "source": [
    "## Let's plot ourselves a pulsar\n",
    "\n",
    "Here we're going to create a plot of pulsar `J1404+12`"
   ]
  },
  {
   "cell_type": "code",
   "execution_count": null,
   "metadata": {
    "collapsed": true
   },
   "outputs": [],
   "source": [
    "#Back to Python, we're setting the filename, which you can see in the list above.\n",
    "filename = 'puppi_57166_J1404+12_1326_subs_0001.fits'"
   ]
  },
  {
   "cell_type": "code",
   "execution_count": null,
   "metadata": {},
   "outputs": [],
   "source": [
    "#We're going to use the Popen functionality in subprocess. You can read some basic documentation with this command\n",
    "help(subprocess.Popen)\n"
   ]
  },
  {
   "cell_type": "code",
   "execution_count": null,
   "metadata": {
    "collapsed": true
   },
   "outputs": [],
   "source": [
    "#Here, we're setting it up to call prepfold from the presto quite to produce output\n",
    "#from the pulsar in that file with a period of ~2.65s and dm of 18.836\n",
    "#You can look at presto documentation on Github to see what it all means\n",
    "\n",
    "p = subprocess.Popen(['prepfold',filename,'-p','2.650585','-dm','18.836','-npart','8','-nsub','128','-noxwin'],stdout=subprocess.PIPE,stderr=subprocess.PIPE)"
   ]
  },
  {
   "cell_type": "code",
   "execution_count": null,
   "metadata": {
    "collapsed": true
   },
   "outputs": [],
   "source": [
    "out, err = p.communicate()"
   ]
  },
  {
   "cell_type": "code",
   "execution_count": null,
   "metadata": {},
   "outputs": [],
   "source": [
    "#Let's see if anything's changed!\n",
    "!ls"
   ]
  },
  {
   "cell_type": "markdown",
   "metadata": {},
   "source": [
    "## Did it work?\n",
    "\n",
    "What you see here are four files produced by `prepfold`. You have `imagemagick` installed on the container, so if you ensure you have an Xserver running on your laptop (`Vcxsrv` or `Xming` for Windows, say, or `XQuartz` for OSX) you can run:\n",
    "\n",
    "`ssh -Y -p 2222 jovyan@localhost`\n",
    "\n",
    "to get into the container with X-forwarding, and you can then just run this to get a display of the postscript file:\n",
    "\n",
    "`display -flatten puppi_57166_J1404+12_1326_subs_0001_2650.59ms_Cand.pfd.ps &`\n",
    "\n",
    "Now you can see the pulsar in all its glory!"
   ]
  },
  {
   "cell_type": "markdown",
   "metadata": {},
   "source": [
    "## Let's look inside the file\n",
    "\n",
    "Here we use `presto`'s readfile."
   ]
  },
  {
   "cell_type": "code",
   "execution_count": null,
   "metadata": {},
   "outputs": [],
   "source": [
    "p = subprocess.Popen(['readfile',filename],stdout=subprocess.PIPE,stderr=subprocess.PIPE)\n",
    "out, err = p.communicate()\n",
    "#a b before a string indicates, in Python3, byte literals\n",
    "result = out.split(b\"\\n\")\n",
    "for res in result:\n",
    "    if b\"Central freq\" in res:\n",
    "        freq = res.split(b\"=\")[1].strip()\n",
    "        print(\"Frequency=%0.1f\" % float(freq))"
   ]
  },
  {
   "cell_type": "code",
   "execution_count": null,
   "metadata": {
    "collapsed": true
   },
   "outputs": [],
   "source": []
  }
 ],
 "metadata": {
  "kernelspec": {
   "display_name": "Python 3",
   "language": "python",
   "name": "python3"
  },
  "language_info": {
   "codemirror_mode": {
    "name": "ipython",
    "version": 3
   },
   "file_extension": ".py",
   "mimetype": "text/x-python",
   "name": "python",
   "nbconvert_exporter": "python",
   "pygments_lexer": "ipython3",
   "version": "3.6.2"
  }
 },
 "nbformat": 4,
 "nbformat_minor": 2
}

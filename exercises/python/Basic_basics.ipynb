{
 "cells": [
  {
   "cell_type": "markdown",
   "metadata": {},
   "source": [
    "# (Some of) the very basics\n",
    "\n",
    "Some key facts about Python will follow; there are many resources of this sort on the web, so we'll proceed through this fairly quickly. If this is your first time on a Jupyter Notebook, you should know that you can run each cell with `<ctrl>-<enter>`, click the arrow button above to run the selected cell, or pick options from the `Cell` menu above. You can also restart the kernel from the `Kernel` menu above, which will wipe the memory of any set variables, etc.\n",
    "\n",
    "This markdown text is also in cells, so if you are running through the cells sequentially, they'll also get 'run'; in practice, this will just mean that they are re-rendered into html.\n",
    "\n",
    "Some of the material here is adapted from a [Cornell Virtual Workshop on Introductory Python](https://cvw.cac.cornell.edu/pythonintro/variables), which you can peruse for more detail."
   ]
  },
  {
   "cell_type": "markdown",
   "metadata": {},
   "source": [
    "### The traditional starting point\n",
    "\n",
    "It's how we do it (note that starting a line with a `#` indicates that the whole line is a comment, and will not be read by the interpeter)"
   ]
  },
  {
   "cell_type": "code",
   "execution_count": null,
   "metadata": {
    "collapsed": true
   },
   "outputs": [],
   "source": [
    "# So very tired of this\n",
    "print(\"Hello, cruel world\")"
   ]
  },
  {
   "cell_type": "markdown",
   "metadata": {},
   "source": [
    "## How to call functions and use strings\n",
    "\n",
    "There's not a lot going on in there, but notice two things. First, we have called a function called `print` (note in Python2, as discussed elsewhere, `print` wasn't a function of this sort). Every Python function call is followed by matched braces `()`, which contain the _arguments_ to the function, of which we'll see more later. The single argument in this case is a string, and strings are delivered wrapped in matched quotation marks; you are _not_ limited to the double quotation mark `\"`, you can have matched single quotes `'`, or matched pairs or triplets of single _or_ double quotes. This can be handy if you are wanting to include some quotation marks within the string itself:"
   ]
  },
  {
   "cell_type": "code",
   "execution_count": null,
   "metadata": {
    "collapsed": true
   },
   "outputs": [],
   "source": [
    "print('\"Hello, cruel world\"')"
   ]
  },
  {
   "cell_type": "markdown",
   "metadata": {},
   "source": [
    "Using triplets of matched single- or double-quotes can also be used to include literal newlines within the string, ie, have multi-line strings:"
   ]
  },
  {
   "cell_type": "code",
   "execution_count": null,
   "metadata": {
    "collapsed": true
   },
   "outputs": [],
   "source": [
    "print('''\"Hello, world\", we say\n",
    "every time we teach code\n",
    "will it ever end?''')"
   ]
  },
  {
   "cell_type": "markdown",
   "metadata": {},
   "source": [
    "Lastly, strings can also contain escape sequences like `\\t` (tab) and `\\n` (newline), which will be taken as formatting instructions when the string is displayed."
   ]
  },
  {
   "cell_type": "code",
   "execution_count": null,
   "metadata": {
    "collapsed": true
   },
   "outputs": [],
   "source": [
    "print(\"And this is a newline \\n right here\")"
   ]
  },
  {
   "cell_type": "markdown",
   "metadata": {},
   "source": [
    "If you want to have them show as characters \\ and t, or to actually just have a single \\, you have two options. One is to use an extra \\ to escape:"
   ]
  },
  {
   "cell_type": "code",
   "execution_count": null,
   "metadata": {
    "collapsed": true
   },
   "outputs": [],
   "source": [
    "print(\"And this is a newline \\\\n right here\")"
   ]
  },
  {
   "cell_type": "markdown",
   "metadata": {},
   "source": [
    "The other is to mark the string as a raw string literal with an `r` prefix, which will treat all escape sequences literally so long as the end quote isn't immediately preceded by a `\\` (that will cause a syntax error: try it!):"
   ]
  },
  {
   "cell_type": "code",
   "execution_count": null,
   "metadata": {
    "collapsed": true
   },
   "outputs": [],
   "source": [
    "print(r\"And this is a newline \\n right here\")\n"
   ]
  },
  {
   "cell_type": "markdown",
   "metadata": {},
   "source": [
    "Strings have some interesting built-in functionality. If you `+` two strings they'll be concatenated (but you can't `+` a number and a string, even in a context where you think it'll be obvious what you want, as in a `print` argument). You can see a lot of what you can get up to with strings by querying help (for now, just ignore the functions wrapped in double underscores, \"`__`\"):"
   ]
  },
  {
   "cell_type": "code",
   "execution_count": null,
   "metadata": {
    "collapsed": true
   },
   "outputs": [],
   "source": [
    "help(str)"
   ]
  },
  {
   "cell_type": "markdown",
   "metadata": {},
   "source": [
    "Here's some space below to try some stuff with strings (you can get more by clicking on the `+` button above)."
   ]
  },
  {
   "cell_type": "code",
   "execution_count": null,
   "metadata": {
    "collapsed": true
   },
   "outputs": [],
   "source": []
  },
  {
   "cell_type": "code",
   "execution_count": null,
   "metadata": {
    "collapsed": true
   },
   "outputs": [],
   "source": []
  },
  {
   "cell_type": "code",
   "execution_count": null,
   "metadata": {
    "collapsed": true
   },
   "outputs": [],
   "source": []
  },
  {
   "cell_type": "markdown",
   "metadata": {},
   "source": [
    "## Function parameters and arguments\n",
    "\n",
    "Strictly speaking, _parameters_ are what appear in a function _definition_; they are the names which will be used internally inside the function. _arguments_ are the actual values you pass in, which inside the function will have the _parameter_ names. However, in practice many people use the words interchangably and it is likely that the same mixed usage occurs in this workshop, but at least you now _know_ the difference!\n",
    "\n",
    "To look a little bit at functions, we'll just stick with `print`. When you pass arguments to a function, they can be passed positionally--just as with the argument to print--or as a keyword where you specify which variable you are passing. Arguments may be _required_, in which case you'll get an error if they're not supplied, or they can be optional (a default will be supplied). Let's see what we can send to `print`:"
   ]
  },
  {
   "cell_type": "code",
   "execution_count": null,
   "metadata": {
    "collapsed": true
   },
   "outputs": [],
   "source": [
    "help('print')"
   ]
  },
  {
   "cell_type": "markdown",
   "metadata": {},
   "source": [
    "OK, so `value` is what will be printed to a stream (in fact, \"values\", we can send more than one) and the rest is all optional, with defined defaults of space for `sep`, newline for `end`, `sys.stdout` for the destination 'file', and `False` for whether to forcibly flush that stream. If you want more details on `print` or any of the other built-in functions, you can find that [here](https://docs.python.org/3.6/library/functions.html). Let's try to send two strings and seperate them by a couple of tabs, with three newlines (instead of one) at the end:"
   ]
  },
  {
   "cell_type": "code",
   "execution_count": null,
   "metadata": {
    "collapsed": true
   },
   "outputs": [],
   "source": [
    "print(\"What are you doing over there?\", \"Who, me?\", sep=\"\\t\\t\", end=\"\\n\\n\\n\")"
   ]
  },
  {
   "cell_type": "markdown",
   "metadata": {},
   "source": [
    "### Two types of arguments: positional and keyword\n",
    "\n",
    "In essence, you can pass two sorts of argument to a Python function. You can pass keyword arguments, as `name=value` as with `sep` and `end`, above, or you can pass arguments just as the values. Arguments where you just pass the values are called _positional_ arguments, and clearly the order in which they come into the function (their _position_) will be relevant.\n",
    "\n",
    "Simple positional arguments are passed first in the line of arguments, one after the other, and their order will matter as the function will be expecting them in the order you see them in, say, the function's `help` or as written out in the function definition in code. If you have function defined like `def myFunc(Third, Second, First):` then you need to make sure that argument `Third` goes in first, `Second` next and then `First` last (note: naming arguments like that is probably a bad idea).\n",
    "\n",
    "#### Star args\n",
    "\n",
    "Other types of arguments you might see (in fact, if you followed that link to the `print` documentation, you'll have seen one there) are \"star args\". This is how you can send multiple arguments that aren't specifically specified in advance; these arguments will feature in the function's argument list as `*<a_name>` and `**<another_name>`, where those names are often `*args` and `**kwargs`. \n",
    "\n",
    "When you see `*args`--it doesn't have to be `args`, it could be `vals`, etc, only the single star is important--then it means that any arguments that aren't sent in the form `name=value` will be available to the function once the initial positional arguments have been dealt with; this means that these arguments need to be sent _after_ the non-starred positional arguments and non-starred keyword arguments. The function will get them packed into an object called `args` (or `vals`) through which it can iterate, so it'll typically sort through them one-by-one; this is what happened to the two string arguments we passed to `print`, above, they were both output with `sep` put between them, in the order in which they were submitted (print _could_ have been written to reverse or jumble that order, but that would probably be silly).\n",
    "\n",
    "The starred keyword arguments are just a list of keyword arguments which aren't specified in advance; the function gets them in a dictionary object (often called `kwargs`, but it's whatever was specified as the name as in the function definition) and can be iterated through.\n",
    "\n",
    "#### Default values\n",
    "\n",
    "Some arguments are _optional_, which means they have default values. We saw that with `print`, where `file`, `sep`, `end` and `flush` had values which would be assigned to those arguments if the function caller didn't specify them. When you see something like `flush=False` in the function definition or help, you know you don't _need_ to supply a value for that argument unless you want the non-default behaviour.\n",
    "\n",
    "### Argument order\n",
    "\n",
    "In Python3, functions can be written to take arguments in this order: `required_positional, *args, keyword, **kwargs` (in Python 2, it had to be `required_positional, keyword args, *args, **kwargs`, which you can also do in Python3). Essentially, the required positional arguments are filled with the non-keyword values in the order in which they came in, then all other leftover positional arguments are put into `args`, specified keyword arguments are filled as given, then non-specified keyword arguments passed in and put into the `kwargs` dictionary. The function can then act on all of those."
   ]
  },
  {
   "cell_type": "markdown",
   "metadata": {
    "collapsed": true
   },
   "source": [
    "## Things which aren't necessarily strings\n",
    "\n",
    "String-handling in Python is good, and there is also a powerful regular expression engine (if not as powerful as Perl's, it's still very useful) and this is no small thing, as anyone that has tried to act on text with Fortran or C might attest. However, there's a lot more to Python the string-handling, and we'll go into some of that now."
   ]
  },
  {
   "cell_type": "markdown",
   "metadata": {},
   "source": [
    "### Variables and their types\n",
    "\n",
    "As in all programming languages, data in Python are stored in variables: a variable is basically a name for a value. However, unlike in most languages, Python automatically detects the type of your variables, and may even convert between types (integer, string, floating point, etc.) for you, as needed. This is known as “duck typing”: if it walks like a duck, and it quacks like a duck, it must be... Since variable types are determined through context, there is no need to declare variables.\n",
    "Values of variables can be set with simple assignment statements such as:"
   ]
  },
  {
   "cell_type": "code",
   "execution_count": null,
   "metadata": {
    "collapsed": true
   },
   "outputs": [],
   "source": [
    "x = 5\n",
    "y = 3.15\n",
    "my_seq = [0,1,2,3]\n",
    "b = 'Some text'"
   ]
  },
  {
   "cell_type": "markdown",
   "metadata": {},
   "source": [
    "For a quick check, we can use `print` to see what values are contained in those variables (if you only need to see one, you can just put the variable name in a cell and run it, but if you are inspecting multiple variables, only the value of the last variable will be displayed)"
   ]
  },
  {
   "cell_type": "code",
   "execution_count": null,
   "metadata": {
    "collapsed": true
   },
   "outputs": [],
   "source": [
    "print(x)\n",
    "print(y)\n",
    "print(my_seq)\n",
    "print(b)"
   ]
  },
  {
   "cell_type": "markdown",
   "metadata": {},
   "source": [
    "Note that the variable `my_seq` is a _list_; we'll see more about those shortly.\n",
    "\n",
    "Basic variables in Python, like strings and numbers, are immutable, meaning once a variable is created, it can’t be changed. Sometimes it appears that you are changing the variable’s value, but what’s really happening is that the expression on the right is evaluated, the old variable is deleted, and a new one with the same name is created."
   ]
  },
  {
   "cell_type": "code",
   "execution_count": null,
   "metadata": {
    "collapsed": true
   },
   "outputs": [],
   "source": [
    "c = b + ' and yet more text'\n",
    "print(\"c is: '\", c, \"'\", sep='')\n",
    "x = x + 3\n",
    "print(x)"
   ]
  },
  {
   "cell_type": "markdown",
   "metadata": {},
   "source": [
    "Variable names follow the rules you would expect from other more traditional languages. Specifically, variable names must start with either a letter or an underscore (they cannot start with a number), followed by any combination of numbers, letters, or other characters. Variables are also case sensitive, so “variable” and “Variable” would be different variables.\n",
    "A couple of notes for those of you used to working with variables in other programming languages:\n",
    "\n",
    "* In Python, there is no “long” type. Integers can be arbitrarily large numbers, and they will work correctly.\n",
    "* Strings aren’t ASCII, they are Unicode (if you don’t know what this means, it probably isn’t a problem for you yet, so don’t worry about it)."
   ]
  },
  {
   "cell_type": "markdown",
   "metadata": {},
   "source": [
    "Where sensible, you can cast between types:"
   ]
  },
  {
   "cell_type": "code",
   "execution_count": null,
   "metadata": {
    "collapsed": true
   },
   "outputs": [],
   "source": [
    "a = 3.6\n",
    "b = int(a)\n",
    "print(a, b, sep='\\n')"
   ]
  },
  {
   "cell_type": "markdown",
   "metadata": {},
   "source": [
    "Note that the rounding to `int` is a _floor_ operation; if you want conventional rounding, add 0.5 to the `float` first before casting to int, or equivalently use the built-in `round` function:"
   ]
  },
  {
   "cell_type": "code",
   "execution_count": null,
   "metadata": {
    "collapsed": true
   },
   "outputs": [],
   "source": [
    "c = int(round(a))\n",
    "d = int(a + 0.5)\n",
    "print (c, d, sep=\"\\n\")"
   ]
  },
  {
   "cell_type": "markdown",
   "metadata": {},
   "source": [
    "If you want to know something's type, you can check it with the built-in function `type` and check typing with the built-in method `isinstance():"
   ]
  },
  {
   "cell_type": "code",
   "execution_count": null,
   "metadata": {
    "collapsed": true
   },
   "outputs": [],
   "source": [
    "print(type(a))\n",
    "print(type(my_seq))\n",
    "print(isinstance(a, float))"
   ]
  },
  {
   "cell_type": "markdown",
   "metadata": {},
   "source": [
    "### Lists, dictionaries and tuples\n",
    "\n",
    "These are not the only built-in classes you'll use (`set` also has some nice features, and can be used to deduplicate lists efficiently), but they are workhorses in a lot of Python code."
   ]
  },
  {
   "cell_type": "markdown",
   "metadata": {},
   "source": [
    "#### Lists\n",
    "\n",
    "One of the most useful built-in types in Python is the list. A list, like a string, is a sort of sequence. But lists are represented as sequences inside square brackets, `[]`, and the elements are separated by commas. List elements are accessed by their index, that is, their position in the list, starting at `0`; in many cases, you'll just _iterate_ through them, as we'll see when we look at `for` loops. Unlike similar classes in some other languages, Python lists can take any objects for elements, including a mix of objects of different types. "
   ]
  },
  {
   "cell_type": "markdown",
   "metadata": {},
   "source": [
    "##### Adding to lists\n",
    "\n",
    "For this we can use `list.append`"
   ]
  },
  {
   "cell_type": "code",
   "execution_count": null,
   "metadata": {
    "collapsed": true
   },
   "outputs": [],
   "source": [
    "#We can create an empty list and fill it\n",
    "myList = []\n",
    "\n",
    "#Use list.append(<item>) to append items to the list, which need not all be of the same type\n",
    "myList.append('first')\n",
    "myList.append(2)\n",
    "print(myList)"
   ]
  },
  {
   "cell_type": "markdown",
   "metadata": {},
   "source": [
    "##### Incorporating a sequence into a list element-by-element\n",
    "\n",
    "`list.extend` will add each element in a sequence as elements in the list (if you used a sequence as the argument for `append`, above, the whole sequence would just be one element of the list)"
   ]
  },
  {
   "cell_type": "code",
   "execution_count": null,
   "metadata": {
    "collapsed": true
   },
   "outputs": [],
   "source": [
    "#list.extend takes an iterable, a sequence, as input\n",
    "#list.extend adds each element of a sequence as a list element\n",
    "myList.extend('third')\n",
    "print(myList)"
   ]
  },
  {
   "cell_type": "markdown",
   "metadata": {},
   "source": [
    "##### Using the list constructor\n",
    "\n",
    "We can make a list from another object; in some cases, this is a bit like _casting_ that object to a list. What happens might not be what you want!"
   ]
  },
  {
   "cell_type": "code",
   "execution_count": null,
   "metadata": {
    "collapsed": true
   },
   "outputs": [],
   "source": [
    "#We make a list with the list constructor:\n",
    "myOtherList = list('first')\n",
    "#It made each element of the sequence--the string \"first\"--into a list element\n",
    "#Not very useful, in this case!\n",
    "print(myOtherList)"
   ]
  },
  {
   "cell_type": "markdown",
   "metadata": {},
   "source": [
    "##### A more commonly-useful way to make a list\n",
    "\n",
    "If you have a string of text, such as a line from a comma- or tab-delimited file, you can ingest the items into a list using `str.split` (detailed above in the output from `help(str)`)"
   ]
  },
  {
   "cell_type": "code",
   "execution_count": null,
   "metadata": {
    "collapsed": true
   },
   "outputs": [],
   "source": [
    "#We can make lists by splitting strings on a particular character\n",
    "csvString = 'a,b,c,d,e'\n",
    "#This could be useful!\n",
    "csvList = csvString.split(',')\n",
    "print(csvList)"
   ]
  },
  {
   "cell_type": "markdown",
   "metadata": {},
   "source": [
    "##### Accessing your list elements\n",
    "\n",
    "List elements are accessed via their position in the list, counting from zero (the first list element is at 0). Lists can be sliced like `myList[x:y]`; this returns another list that starts at element x and ends before element y. Omitting the entry before the : means “starting at the beginning of the list” and omitting the entry after the : means “ending at the end of the list”.\n"
   ]
  },
  {
   "cell_type": "code",
   "execution_count": null,
   "metadata": {
    "collapsed": true
   },
   "outputs": [],
   "source": [
    "myList = ['fee', 'fi', 'fo', 'fum']\n",
    "print (myList[2])"
   ]
  },
  {
   "cell_type": "markdown",
   "metadata": {},
   "source": [
    "Remember that you can mix types in a `list`!"
   ]
  },
  {
   "cell_type": "code",
   "execution_count": null,
   "metadata": {
    "collapsed": true
   },
   "outputs": [],
   "source": [
    "#Not even a string!\n",
    "myList[3] = False\n",
    "print(myList)\n",
    "\n"
   ]
  },
  {
   "cell_type": "markdown",
   "metadata": {},
   "source": [
    "Slicing is really useful, particularly the ability to grab everything from a given position to the end, or from the start to a given position:"
   ]
  },
  {
   "cell_type": "code",
   "execution_count": null,
   "metadata": {
    "collapsed": true
   },
   "outputs": [],
   "source": [
    "#We can make sublists using the list slice operation\n",
    "#Even though there is no element 4, this works...\n",
    "#myList[2:10] would have worked the same,\n",
    "#as would myList[2:]\n",
    "\n",
    "myNewList = myList[2:4]\n",
    "print(myNewList)\n",
    "\n",
    "#Similar rules apply to the leading index\n",
    "print(myList[0:2])\n",
    "print(myList[:2])\n",
    "\n"
   ]
  },
  {
   "cell_type": "markdown",
   "metadata": {},
   "source": [
    "You can count backwards from the end, look for elements' indexes, and insert new elements: "
   ]
  },
  {
   "cell_type": "code",
   "execution_count": null,
   "metadata": {
    "collapsed": true
   },
   "outputs": [],
   "source": [
    "#Negative indices mean to count backwards from the end:\n",
    "print(myList[:-1])\n",
    "\n",
    "#We can find the index of a given element\n",
    "#This finds the index of the first element with value False\n",
    "myList.index(False)\n",
    "\n",
    "#Finally, we can insert into lists at a specified index\n",
    "#This inserts the number 4 at position 3, pushing the element\n",
    "#at 3 to position 4\n",
    "myList.insert(3, 4)\n",
    "print(myList)\n"
   ]
  },
  {
   "cell_type": "markdown",
   "metadata": {},
   "source": [
    "You can also reverse or sort the list in place, with `mylist.reverse()` and `mylist.sort()`). **Exercise**: try that in the space below (why does `sort` fail, with the current `myList`?)"
   ]
  },
  {
   "cell_type": "code",
   "execution_count": null,
   "metadata": {
    "collapsed": true
   },
   "outputs": [],
   "source": []
  },
  {
   "cell_type": "markdown",
   "metadata": {},
   "source": [
    "You can have some weird behaviour if you copy lists which contain other complex objects (like other lists); for more detail, see [here](https://cvw.cac.cornell.edu/pythonintro/lists) (external link to Cornell Virtual Workshop)"
   ]
  },
  {
   "cell_type": "markdown",
   "metadata": {},
   "source": [
    "#### Dictionaries\n",
    "\n",
    "Dictionaries are collections of key-value pairs which, unlike list elements, are not ordered in a numerical sequence according to the order in which they were added. Although dictionary values are accessed with `[]` brackets, the contents of the brackets are not a numerical index indicating position, but rather the key for the desired value. Like lists, dictionaries are mutable: you can add more key-value pairs, remove them from the dictionary, or reassign the value for a given key. The whole collection is enclosed in curly braces, or `{}`."
   ]
  },
  {
   "cell_type": "code",
   "execution_count": null,
   "metadata": {
    "collapsed": true
   },
   "outputs": [],
   "source": [
    "#Create an empty dictionary\n",
    ">>> my_dict = {}\n",
    "#Dictionary elements are key-value pairs\n",
    "#Let's assign some\n",
    "my_dict[\"a\"] = 1\n",
    "my_dict[\"b\"] = 2\n",
    "print(my_dict)\n",
    "\n",
    "\n"
   ]
  },
  {
   "cell_type": "markdown",
   "metadata": {},
   "source": [
    "The `value` can be just about anything (including lists, other dictionaries, etc), but the `key` is more limited: it can be any immutable type and both strings and numbers can always be keys (strictly speaking, because python dictionaries are hashtables, the keys have to be hashable, which you can test by trying `hash(<proposedKey>)`. This function will return an error if the proposed key isn’t hashable).\n",
    "\n",
    "You can reassign the value associated to an existing key"
   ]
  },
  {
   "cell_type": "code",
   "execution_count": null,
   "metadata": {
    "collapsed": true
   },
   "outputs": [],
   "source": [
    "#You assign new values to existing keys\n",
    "#with dictionary[<key>] = newValue:\n",
    "print(my_dict['a'])\n",
    "my_dict['a'] = 'x'\n",
    "print(my_dict)\n"
   ]
  },
  {
   "cell_type": "markdown",
   "metadata": {},
   "source": [
    "You can check for the existence of a given key, and you can also get a list of keys or values with `dict_name.keys()` and `dict_name.values()` (although the list of keys will all be unique, the list of values can contain duplicates--more than one key can contain a given value--so if you want deduplication cast it to `set` and then back to `list`, like `list(set(my_dict.values())))`)."
   ]
  },
  {
   "cell_type": "code",
   "execution_count": null,
   "metadata": {
    "collapsed": true
   },
   "outputs": [],
   "source": [
    "#You can check whether a given key is present:\n",
    "print('a' in my_dict.keys())\n",
    "\n",
    "print('c' in my_dict.keys())\n",
    "\n",
    "#You can get a list of keys or values:\n",
    "print(my_dict.keys())\n",
    "\n",
    "print(my_dict.values())\n",
    "['x', 2]"
   ]
  },
  {
   "cell_type": "markdown",
   "metadata": {},
   "source": [
    "#### Tuples\n",
    "\n",
    "Tuples have much in common with lists—they are sequences and their elements are accessed with the [] index notation—but they are explicitly immutable, which means they must be fully assigned when they are created:\n"
   ]
  },
  {
   "cell_type": "code",
   "execution_count": null,
   "metadata": {
    "collapsed": true
   },
   "outputs": [],
   "source": [
    "#Tuples look like lists, but with round brackets\n",
    "my_tuple = ('first', 'second', 'third')\n",
    "print(my_tuple[2])\n",
    "\n",
    "\n",
    "#This won't work, because tuples are immutable\n",
    "my_tuple[2] = 'last'\n",
    "\n"
   ]
  },
  {
   "cell_type": "markdown",
   "metadata": {},
   "source": [
    "**Exercise** Here are some things you can do to become more familiar with tuples... Practice creating tuples and accessing their values. Make a tuple of tuples and access the subtuples with `tuple[x][y]` to get the yth element of the xth tuple. Make a tuples of lists. Access an element in one of the lists in the tuple with the same `tuple[x][y]` method, and try to change it; what happens? "
   ]
  },
  {
   "cell_type": "markdown",
   "metadata": {},
   "source": [
    "#### There's more!\n",
    "\n",
    "There's a lot more to lists and dictionaries, including the copying issue mentioned above, list comprehensions, other functionality like `pop`, etc, but this basic toolkit works pretty well for many purposes."
   ]
  },
  {
   "cell_type": "code",
   "execution_count": null,
   "metadata": {
    "collapsed": true
   },
   "outputs": [],
   "source": []
  }
 ],
 "metadata": {
  "kernelspec": {
   "display_name": "Python 3",
   "language": "python",
   "name": "python3"
  },
  "language_info": {
   "codemirror_mode": {
    "name": "ipython",
    "version": 3
   },
   "file_extension": ".py",
   "mimetype": "text/x-python",
   "name": "python",
   "nbconvert_exporter": "python",
   "pygments_lexer": "ipython3",
   "version": "3.6.2"
  }
 },
 "nbformat": 4,
 "nbformat_minor": 2
}

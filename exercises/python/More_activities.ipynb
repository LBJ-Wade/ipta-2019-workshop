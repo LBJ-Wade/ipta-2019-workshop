{
 "cells": [
  {
   "cell_type": "markdown",
   "metadata": {},
   "source": [
    "# Some more fun things to do\n",
    "\n",
    "Below are a couple of other astronomy-based activities at which you can try your hand, which are more open-ended and self-directed. A lot of it uses the file (in this folder) `some_pulsars.txt` (advice on reading text files is given in the notebook [Loops_ifs_files](Loops_ifs_files.ipynb)). Make yourself new Notebooks for addressing these problems!\n",
    "\n",
    "_Hint_ You can find much of the necessary `astropy` functionality in the notebook [getting_stuff_done](getting_stuff_done.ipynb)"
   ]
  },
  {
   "cell_type": "markdown",
   "metadata": {},
   "source": [
    "## Time is of the essence!\n",
    "\n",
    "Write some code to take the pulsars in the  and convert the `ra` and `dec` from `hhmmss` and `ddmmss` into decimal degrees. Start with just a few, say 5 (but don't take them from the first 10, a bunch of them are in a Globular cluster and very close together!). Write some code to find the separations between them. As the distance from puslar 1 to pulsar 2 is the same as the distance from pulsar 2 to pulsar 1, make sure you don't have duplication in your dataset.\n",
    "\n",
    "### Efficient observing\n",
    "\n",
    "The most efficient way to observe them, assuming all are equally important and all stay up through the observation (and a bunch of other things; writing optimal observing scripts is _hard_), is to observe in the order which minimises slew time. Write some code, for your pulsars, to minimise that slew time; just assume that the angular separation is the proxy for the slew time (ie, you're trying to minimise the total traversed angular distance over the observing run).\n",
    "\n",
    "### The salesman must travel!\n",
    "\n",
    "This problem will get computationally slow. Have a look at how hard it gets. Using the Python `time` module, see how the run time scales with number of pulsars, (there will be a limit to what is tractable! It gets demanding very fast). _Bonus_: Plot the results with `matplotlib`\n",
    "\n",
    "_Note_ Although this can be done badly or well, the underlying problem is computationally hard however you do it, and won't scale well! Indeed, it's the Travelling Salesman Problem, a classic NP-complete problem. There are some Python implementations for the Travelling Salesman Problem you can search up online. In big problems, it'd be easier to sacrifice some efficiency for computational tractability. _Hard_: How might you do that? Some ideas may be [here](https://en.wikipedia.org/wiki/Travelling_salesman_problem#Heuristic_and_approximation_algorithms)."
   ]
  },
  {
   "cell_type": "markdown",
   "metadata": {},
   "source": [
    "## Plotting\n",
    "\n",
    "Many of you will have seen the Aitoff projections of pulsar positions; try plotting some/many of the pulsar positions in `some_pulsars.txt`. The examples in the `astropy` documentation [here](http://docs.astropy.org/en/stable/coordinates/skycoord.html#example-1-plotting-random-data-in-aitoff-projection) or [here](http://docs.astropy.org/en/stable/coordinates/skycoord.html#example-2-plotting-star-positions-in-bulge-and-disk) will help.\n",
    "\n",
    "Looking at the `matplotlib` documentation, can you think of ways to indicate pulsar details (period and/or dm) on the plot? What if pulsars are very close together (as with the GC pulsars with names beginning `J0024-7204`)"
   ]
  },
  {
   "cell_type": "code",
   "execution_count": null,
   "metadata": {
    "collapsed": true
   },
   "outputs": [],
   "source": []
  }
 ],
 "metadata": {
  "kernelspec": {
   "display_name": "Python 3",
   "language": "python",
   "name": "python3"
  },
  "language_info": {
   "codemirror_mode": {
    "name": "ipython",
    "version": 3
   },
   "file_extension": ".py",
   "mimetype": "text/x-python",
   "name": "python",
   "nbconvert_exporter": "python",
   "pygments_lexer": "ipython3",
   "version": "3.6.2"
  }
 },
 "nbformat": 4,
 "nbformat_minor": 2
}
